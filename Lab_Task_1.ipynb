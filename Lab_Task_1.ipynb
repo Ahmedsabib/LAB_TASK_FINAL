{
  "nbformat": 4,
  "nbformat_minor": 0,
  "metadata": {
    "colab": {
      "provenance": [],
      "authorship_tag": "ABX9TyN9+sMUAs6/k3E5cN6Qp2KA",
      "include_colab_link": true
    },
    "kernelspec": {
      "name": "python3",
      "display_name": "Python 3"
    },
    "language_info": {
      "name": "python"
    }
  },
  "cells": [
    {
      "cell_type": "markdown",
      "metadata": {
        "id": "view-in-github",
        "colab_type": "text"
      },
      "source": [
        "<a href=\"https://colab.research.google.com/github/Ahmedsabib/LAB_TASK_FINAL/blob/main/Lab_Task_1.ipynb\" target=\"_parent\"><img src=\"https://colab.research.google.com/assets/colab-badge.svg\" alt=\"Open In Colab\"/></a>"
      ]
    },
    {
      "cell_type": "code",
      "execution_count": null,
      "metadata": {
        "id": "HIP34jI3BLqw"
      },
      "outputs": [],
      "source": [
        "# Task 1\n",
        "# Upload the image(DIP_Lab_task_01.png) from drive with extracting details like: image dimension, frequency distribution of intensities, range.\n",
        "\n",
        "import cv2\n",
        "import matplotlib.pyplot as plt\n",
        "import numpy as np\n",
        "from google.colab.patches import cv2_imshow\n",
        "\n",
        "image = cv2.imread('Lab_Task_Resource/DIP_Lab_task_01.png')\n",
        "cv2_imshow(image)\n",
        "\n",
        "# image dimension\n",
        "image_dim = image.shape\n",
        "width = image_dim[0]\n",
        "height = image_dim[1]\n",
        "\n",
        "print(f\"Image Dimension: {width} x {height}\")\n",
        "\n",
        "# frequency distribution of intensities\n",
        "hist = cv2.calcHist([image], [0], None, [256], [0, 256])\n",
        "plt.plot(hist)\n",
        "plt.show()\n",
        "\n",
        "# range\n",
        "max_range = image.max()\n",
        "min_range = image.min()\n",
        "\n",
        "print(f\"Range: {max_range - min_range}\")\n"
      ]
    }
  ]
}